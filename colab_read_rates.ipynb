with open("rates.txt","r") as results:
  for line in results:
    print(line)
#note: will delete all after the season for best use use #drive.mount()